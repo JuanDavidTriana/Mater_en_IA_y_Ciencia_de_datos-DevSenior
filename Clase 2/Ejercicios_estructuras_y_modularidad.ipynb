{
 "cells": [
  {
   "cell_type": "markdown",
   "id": "2cc89153",
   "metadata": {},
   "source": [
    "# Notebook de ejercicios: estructuras esenciales y programación modular\n",
    "\n",
    "Este cuaderno recopila ejercicios prácticos sobre condicionales, bucles, listas, diccionarios y funciones, con un mini-proyecto final.\n",
    "\n",
    "Cómo usar este notebook:\n",
    "- Intenta resolver cada ejercicio en la celda “Ejercicio”.\n",
    "- Revisa la “Solución” en la celda siguiente y compárala con tu respuesta.\n",
    "- Algunos ejercicios incluyen datos simulados para evitar entrada manual.\n"
   ]
  },
  {
   "cell_type": "markdown",
   "id": "581ac18e",
   "metadata": {},
   "source": [
    "## A) Condicionales\n",
    "\n",
    "Ejercicios para practicar decisiones con `if`, `elif`, `else`, y operadores lógicos.\n"
   ]
  },
  {
   "cell_type": "code",
   "execution_count": null,
   "id": "a036a858",
   "metadata": {},
   "outputs": [],
   "source": [
    "# Ejercicio A1: Clasificación de calificaciones\n",
    "# Dada la lista, clasifica cada nota en: \"Sobresaliente\" (>=4.7), \"Alta\" (>=4.0), \"Media\" (>=3.0), \"Baja\" (<3.0).\n",
    "# Devuelve:\n",
    "#  - una lista de tuplas (nota, categoria) redondeando nota a 1 decimal\n",
    "#  - un diccionario de conteos por categoria\n",
    "\n",
    "calificaciones = [2.5, 3.1, 4.8, 3.9, 1.7, 4.2, 4.7, 4.0]\n",
    "\n",
    "# TODO: completa la lógica usando if/elif/else\n",
    "clasificaciones = []\n",
    "conteo = {\"Sobresaliente\": 0, \"Alta\": 0, \"Media\": 0, \"Baja\": 0}\n",
    "\n",
    "# tu código aquí\n",
    "\n",
    "# print(clasificaciones)\n",
    "# print(conteo)\n"
   ]
  },
  {
   "cell_type": "code",
   "execution_count": null,
   "id": "dd1f23b1",
   "metadata": {},
   "outputs": [],
   "source": [
    "# Solución A1\n",
    "calificaciones = [2.5, 3.1, 4.8, 3.9, 1.7, 4.2, 4.7, 4.0]\n",
    "clasificaciones = []\n",
    "conteo = {\"Sobresaliente\": 0, \"Alta\": 0, \"Media\": 0, \"Baja\": 0}\n",
    "\n",
    "for n in calificaciones:\n",
    "    if n >= 4.7:\n",
    "        cat = \"Sobresaliente\"\n",
    "    elif n >= 4.0:\n",
    "        cat = \"Alta\"\n",
    "    elif n >= 3.0:\n",
    "        cat = \"Media\"\n",
    "    else:\n",
    "        cat = \"Baja\"\n",
    "    clasificaciones.append((round(n, 1), cat))\n",
    "    conteo[cat] += 1\n",
    "\n",
    "print(\"Clasificaciones:\", clasificaciones)\n",
    "print(\"Conteos:\", conteo)\n"
   ]
  },
  {
   "cell_type": "code",
   "execution_count": null,
   "id": "9fed8c9a",
   "metadata": {},
   "outputs": [],
   "source": [
    "# Ejercicio A2: Beca por nota y asistencia\n",
    "# Reglas: beca completa si nota>=4.0 y asistencia>=0.8; beca parcial si nota>=4.5 o asistencia>=0.95; de lo contrario, sin beca.\n",
    "\n",
    "casos = [\n",
    "    {\"nota\": 4.2, \"asistencia\": 0.85},\n",
    "    {\"nota\": 4.6, \"asistencia\": 0.70},\n",
    "    {\"nota\": 3.9, \"asistencia\": 0.99},\n",
    "]\n",
    "\n",
    "# TODO: para cada caso imprime \"Completa\", \"Parcial\" o \"No\" según las reglas.\n",
    "\n",
    "# tu código aquí\n"
   ]
  },
  {
   "cell_type": "code",
   "execution_count": null,
   "id": "ed495857",
   "metadata": {},
   "outputs": [],
   "source": [
    "# Solución A2\n",
    "for c in casos:\n",
    "    nota = c[\"nota\"]\n",
    "    asistencia = c[\"asistencia\"]\n",
    "    if (nota >= 4.0) and (asistencia >= 0.8):\n",
    "        beca = \"Completa\"\n",
    "    elif (nota >= 4.5) or (asistencia >= 0.95):\n",
    "        beca = \"Parcial\"\n",
    "    else:\n",
    "        beca = \"No\"\n",
    "    print(f\"nota={nota}, asistencia={asistencia} -> {beca}\")\n"
   ]
  },
  {
   "cell_type": "markdown",
   "id": "d893849e",
   "metadata": {},
   "source": [
    "## B) Bucles (for y while)\n",
    "\n",
    "Practica recorrer colecciones, usar `enumerate`, `break`, `continue` y `for ... else`.\n"
   ]
  },
  {
   "cell_type": "code",
   "execution_count": null,
   "id": "13730a8d",
   "metadata": {},
   "outputs": [],
   "source": [
    "# Ejercicio B1: Valores por encima del promedio\n",
    "# Dada la lista, calcula el promedio y cuenta cuántos valores lo superan.\n",
    "# Guarda también los índices usando enumerate. Si ninguno supera, usa for...else para imprimir un mensaje.\n",
    "\n",
    "valores = [10, 20, 15, 30, 25, 5]\n",
    "\n",
    "# TODO: completa el conteo y la lista de índices\n",
    "promedio = None\n",
    "contador = 0\n",
    "indices = []\n",
    "\n",
    "# tu código aquí\n"
   ]
  },
  {
   "cell_type": "code",
   "execution_count": null,
   "id": "7ff2f518",
   "metadata": {},
   "outputs": [],
   "source": [
    "# Solución B1\n",
    "valores = [10, 20, 15, 30, 25, 5]\n",
    "promedio = sum(valores) / len(valores)\n",
    "contador = 0\n",
    "indices = []\n",
    "\n",
    "for i, v in enumerate(valores):\n",
    "    if v > promedio:\n",
    "        contador += 1\n",
    "        indices.append(i)\n",
    "\n",
    "if contador == 0:\n",
    "    print(\"Ningún valor supera el promedio.\")\n",
    "else:\n",
    "    print(f\"Promedio={promedio:.2f} | Cuenta={contador} | Índices={indices}\")\n"
   ]
  },
  {
   "cell_type": "code",
   "execution_count": null,
   "id": "21470ef2",
   "metadata": {},
   "outputs": [],
   "source": [
    "# Ejercicio B2: Entrada validada con while (simulación)\n",
    "# Simula entrada de notas hasta encontrar una válida en [0, 5]. Usa try/except.\n",
    "\n",
    "entradas = [\"-1\", \"hola\", \"6\", \"4.3\"]\n",
    "nota_valida = None\n",
    "\n",
    "# TODO: recorre entradas y asigna a nota_valida cuando el valor sea correcto\n",
    "\n",
    "# tu código aquí\n",
    "\n",
    "# print(\"Nota válida:\", nota_valida)\n"
   ]
  },
  {
   "cell_type": "code",
   "execution_count": null,
   "id": "0328f4f4",
   "metadata": {},
   "outputs": [],
   "source": [
    "# Solución B2\n",
    "entradas = [\"-1\", \"hola\", \"6\", \"4.3\"]\n",
    "nota_valida = None\n",
    "\n",
    "for e in entradas:\n",
    "    try:\n",
    "        n = float(e)\n",
    "        if 0 <= n <= 5:\n",
    "            nota_valida = n\n",
    "            print(\"Entrada válida ->\", nota_valida)\n",
    "            break\n",
    "        else:\n",
    "            print(\"Fuera de rango ->\", n)\n",
    "    except ValueError:\n",
    "        print(\"No numérico ->\", e)\n",
    "\n",
    "if nota_valida is None:\n",
    "    print(\"No se encontró una nota válida.\")\n"
   ]
  },
  {
   "cell_type": "markdown",
   "id": "33ec2c28",
   "metadata": {},
   "source": [
    "## C) Listas\n",
    "\n",
    "Trabaja con estadísticas, transformaciones, aplanado y únicos preservando orden.\n"
   ]
  },
  {
   "cell_type": "code",
   "execution_count": null,
   "id": "5167afdc",
   "metadata": {},
   "outputs": [],
   "source": [
    "# Ejercicio C1: Media móvil (ventana=3)\n",
    "# Dada una lista de números, calcula la media móvil simple con ventana 3.\n",
    "# Resultado: lista de medias para las ventanas completas (sin padding).\n",
    "\n",
    "datos = [10, 12, 14, 16, 18, 20]\n",
    "ventana = 3\n",
    "\n",
    "# TODO: genera la lista resultado\n",
    "resultado = []\n",
    "\n",
    "# tu código aquí\n",
    "\n",
    "# print(resultado)  # esperado para ventana=3: [12.0, 14.0, 16.0, 18.0]\n"
   ]
  },
  {
   "cell_type": "code",
   "execution_count": null,
   "id": "e1f248d8",
   "metadata": {},
   "outputs": [],
   "source": [
    "# Solución C1\n",
    "datos = [10, 12, 14, 16, 18, 20]\n",
    "ventana = 3\n",
    "resultado = []\n",
    "for i in range(len(datos) - ventana + 1):\n",
    "    bloque = datos[i:i+ventana]\n",
    "    resultado.append(sum(bloque)/ventana)\n",
    "print(resultado)\n"
   ]
  },
  {
   "cell_type": "code",
   "execution_count": null,
   "id": "da709688",
   "metadata": {},
   "outputs": [],
   "source": [
    "# Ejercicio C2: Aplanar y únicos preservando orden\n",
    "listas = [[1,2],[3,4,5],[6,2,3,6]]\n",
    "# TODO: crea una lista aplanada sin duplicados preservando el primer orden de aparición: [1,2,3,4,5,6]\n",
    "\n",
    "aplanada_unicos = []\n",
    "# tu código aquí\n",
    "\n",
    "# print(aplanada_unicos)\n"
   ]
  },
  {
   "cell_type": "code",
   "execution_count": null,
   "id": "4e052ab8",
   "metadata": {},
   "outputs": [],
   "source": [
    "# Solución C2\n",
    "listas = [[1,2],[3,4,5],[6,2,3,6]]\n",
    "vistos = set()\n",
    "aplanada_unicos = []\n",
    "for sub in listas:\n",
    "    for x in sub:\n",
    "        if x not in vistos:\n",
    "            vistos.add(x)\n",
    "            aplanada_unicos.append(x)\n",
    "print(aplanada_unicos)\n"
   ]
  },
  {
   "cell_type": "markdown",
   "id": "7bf7d7e8",
   "metadata": {},
   "source": [
    "## D) Diccionarios\n",
    "\n",
    "Practica conteo de frecuencias, combinación y reportes.\n"
   ]
  },
  {
   "cell_type": "code",
   "execution_count": null,
   "id": "d3a9146d",
   "metadata": {},
   "outputs": [],
   "source": [
    "# Ejercicio D1: Frecuencia de palabras y top-3\n",
    "comentarios = [\n",
    "    \"Bueno y rápido\",\n",
    "    \"Bueno y barato\",\n",
    "    \"Rápido pero no tan bueno\",\n",
    "]\n",
    "\n",
    "# TODO: normaliza a minúsculas, quita puntuación simple y cuenta frecuencias en un dict.\n",
    "# Luego muestra el top-3 más frecuentes.\n",
    "\n",
    "frecuencias = {}\n",
    "\n",
    "# tu código aquí\n",
    "\n",
    "# print(frecuencias)\n",
    "# print(\"Top-3:\", top3)\n"
   ]
  },
  {
   "cell_type": "code",
   "execution_count": null,
   "id": "b3a03c62",
   "metadata": {},
   "outputs": [],
   "source": [
    "# Solución D1\n",
    "import string\n",
    "comentarios = [\n",
    "    \"Bueno y rápido\",\n",
    "    \"Bueno y barato\",\n",
    "    \"Rápido pero no tan bueno\",\n",
    "]\n",
    "traductor = str.maketrans(\"\", \"\", string.punctuation)\n",
    "palabras = []\n",
    "for c in comentarios:\n",
    "    t = c.lower().translate(traductor)\n",
    "    palabras.extend(t.split())\n",
    "\n",
    "frecuencias = {}\n",
    "for p in palabras:\n",
    "    frecuencias[p] = frecuencias.get(p, 0) + 1\n",
    "\n",
    "top3 = sorted(frecuencias.items(), key=lambda kv: kv[1], reverse=True)[:3]\n",
    "print(frecuencias)\n",
    "print(\"Top-3:\", top3)\n"
   ]
  },
  {
   "cell_type": "code",
   "execution_count": null,
   "id": "903ba20f",
   "metadata": {},
   "outputs": [],
   "source": [
    "# Ejercicio D2: Combinar inventarios sumando cantidades\n",
    "inv_a = {\"A\": 5, \"B\": 2, \"C\": 1}\n",
    "inv_b = {\"B\": 4, \"C\": 3, \"D\": 10}\n",
    "# TODO: combina ambos inventarios en un nuevo dict sumando cantidades por clave\n",
    "\n",
    "combinado = {}\n",
    "\n",
    "# tu código aquí\n",
    "\n",
    "# print(combinado)  # esperado: {\"A\":5, \"B\":6, \"C\":4, \"D\":10}\n"
   ]
  },
  {
   "cell_type": "code",
   "execution_count": null,
   "id": "afcbfe88",
   "metadata": {},
   "outputs": [],
   "source": [
    "# Solución D2\n",
    "inv_a = {\"A\": 5, \"B\": 2, \"C\": 1}\n",
    "inv_b = {\"B\": 4, \"C\": 3, \"D\": 10}\n",
    "combinado = {}\n",
    "for k, v in inv_a.items():\n",
    "    combinado[k] = combinado.get(k, 0) + v\n",
    "for k, v in inv_b.items():\n",
    "    combinado[k] = combinado.get(k, 0) + v\n",
    "print(combinado)\n"
   ]
  },
  {
   "cell_type": "markdown",
   "id": "c73cdb6c",
   "metadata": {},
   "source": [
    "## E) Funciones\n",
    "\n",
    "Implementa funciones reutilizables con docstrings y validaciones.\n"
   ]
  },
  {
   "cell_type": "code",
   "execution_count": null,
   "id": "32052fcf",
   "metadata": {},
   "outputs": [],
   "source": [
    "# Ejercicio E1: resumen de números\n",
    "# Implementa resumen(numeros) -> (promedio, max, min) con validación de lista no vacía.\n",
    "\n",
    "# TODO: escribe la función resumen y pruébala con asserts\n",
    "\n",
    "# def resumen(numeros):\n",
    "#     ...\n",
    "\n",
    "# assert resumen([1,2,3,4]) == (2.5, 4, 1)\n"
   ]
  },
  {
   "cell_type": "code",
   "execution_count": null,
   "id": "ea945f0c",
   "metadata": {},
   "outputs": [],
   "source": [
    "# Solución E1\n",
    "def resumen(numeros):\n",
    "    \"\"\"Devuelve (promedio, max, min) de una lista de números.\"\"\"\n",
    "    if not numeros:\n",
    "        raise ValueError(\"Lista vacía\")\n",
    "    promedio = sum(numeros) / len(numeros)\n",
    "    return (round(promedio,2), max(numeros), min(numeros))\n",
    "\n",
    "assert resumen([1,2,3,4]) == (2.5, 4, 1)\n",
    "print(\"Prueba OK:\", resumen([1,2,3,4]))\n"
   ]
  },
  {
   "cell_type": "code",
   "execution_count": null,
   "id": "e01d9699",
   "metadata": {},
   "outputs": [],
   "source": [
    "# Ejercicio E2: estadisticas(calificaciones)\n",
    "# Implementa: devuelve (promedio, aprobados>=3.0, nota_maxima) con validaciones de rango [0,5].\n",
    "\n",
    "# TODO: escribe estadisticas y pruébala\n",
    "\n",
    "# def estadisticas(calificaciones):\n",
    "#     ...\n",
    "\n",
    "# print(estadisticas([3.0, 4.5, 2.8, 5.0, 3.9]))\n"
   ]
  },
  {
   "cell_type": "code",
   "execution_count": null,
   "id": "acbc7a1c",
   "metadata": {},
   "outputs": [],
   "source": [
    "# Solución E2\n",
    "def estadisticas(calificaciones):\n",
    "    \"\"\"Devuelve (promedio, aprobados, maximo).\n",
    "    calificaciones deben estar en [0, 5].\n",
    "    \"\"\"\n",
    "    if not calificaciones:\n",
    "        raise ValueError(\"Lista vacía\")\n",
    "    if any(n < 0 or n > 5 for n in calificaciones):\n",
    "        raise ValueError(\"Notas deben estar en [0, 5]\")\n",
    "    promedio = sum(calificaciones) / len(calificaciones)\n",
    "    aprobados = sum(1 for n in calificaciones if n >= 3.0)\n",
    "    maximo = max(calificaciones)\n",
    "    return (round(promedio, 2), aprobados, maximo)\n",
    "\n",
    "print(estadisticas([3.0, 4.5, 2.8, 5.0, 3.9]))\n"
   ]
  },
  {
   "cell_type": "markdown",
   "id": "73ec13f6",
   "metadata": {},
   "source": [
    "## F) Mini-proyecto: análisis de ventas\n",
    "\n",
    "Crea un mini proyecto que combine todo lo aprendido: leer datos, procesarlos con funciones, generar un reporte.\n"
   ]
  },
  {
   "cell_type": "code",
   "execution_count": null,
   "id": "66f2a595",
   "metadata": {},
   "outputs": [],
   "source": [
    "# Mini-proyecto: análisis de ventas\n",
    "# Datos: lista de productos [{\"nombre\":..., \"precio\":..., \"cantidad\":...}]\n",
    "# Tareas:\n",
    "#  1) Calcular el total_vendido = sum(precio * cantidad)\n",
    "#  2) Calcular el precio_promedio\n",
    "#  3) Filtrar productos con precio > umbral\n",
    "#  4) Generar un reporte dict con: {total_vendido, precio_promedio, productos_filtrados}\n",
    "\n",
    "productos = [\n",
    "    {\"nombre\": \"A\", \"precio\": 10, \"cantidad\": 3},\n",
    "    {\"nombre\": \"B\", \"precio\": 25, \"cantidad\": 2},\n",
    "    {\"nombre\": \"C\", \"precio\": 15, \"cantidad\": 5},\n",
    "    {\"nombre\": \"D\", \"precio\": 40, \"cantidad\": 1},\n",
    "]\n",
    "umbral = 20\n",
    "\n",
    "# TODO: define funciones total_vendido, precio_promedio, filtrar_por_precio, generar_reporte\n",
    "# y genera el reporte final\n",
    "\n",
    "# tu código aquí\n",
    "\n",
    "# print(reporte)\n"
   ]
  },
  {
   "cell_type": "code",
   "execution_count": null,
   "id": "f429e034",
   "metadata": {},
   "outputs": [],
   "source": [
    "# Solución mini-proyecto\n",
    "productos = [\n",
    "    {\"nombre\": \"A\", \"precio\": 10, \"cantidad\": 3},\n",
    "    {\"nombre\": \"B\", \"precio\": 25, \"cantidad\": 2},\n",
    "    {\"nombre\": \"C\", \"precio\": 15, \"cantidad\": 5},\n",
    "    {\"nombre\": \"D\", \"precio\": 40, \"cantidad\": 1},\n",
    "]\n",
    "umbral = 20\n",
    "\n",
    "def total_vendido(prods):\n",
    "    \"\"\"Calcula el total vendido (precio*cantidad).\"\"\"\n",
    "    return sum(p[\"precio\"]*p[\"cantidad\"] for p in prods)\n",
    "\n",
    "def precio_promedio(prods):\n",
    "    \"\"\"Precio promedio de los productos (independiente de cantidad).\"\"\"\n",
    "    precios = [p[\"precio\"] for p in prods]\n",
    "    return round(sum(precios)/len(precios), 2) if precios else 0\n",
    "\n",
    "def filtrar_por_precio(prods, minimo):\n",
    "    \"\"\"Filtra productos con precio >= minimo.\"\"\"\n",
    "    return [p for p in prods if p[\"precio\"] >= minimo]\n",
    "\n",
    "def generar_reporte(prods, umbral_precio):\n",
    "    \"\"\"Genera reporte con total vendido, precio promedio y filtrados.\"\"\"\n",
    "    filtrados = filtrar_por_precio(prods, umbral_precio)\n",
    "    return {\n",
    "        \"total_vendido\": total_vendido(prods),\n",
    "        \"precio_promedio\": precio_promedio(prods),\n",
    "        \"productos_filtrados\": [p[\"nombre\"] for p in filtrados],\n",
    "        \"num_filtrados\": len(filtrados),\n",
    "    }\n",
    "\n",
    "reporte = generar_reporte(productos, umbral)\n",
    "print(reporte)\n"
   ]
  }
 ],
 "metadata": {
  "language_info": {
   "name": "python"
  }
 },
 "nbformat": 4,
 "nbformat_minor": 5
}
